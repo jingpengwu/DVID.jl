{
 "cells": [
  {
   "cell_type": "code",
   "execution_count": 1,
   "metadata": {
    "collapsed": true
   },
   "outputs": [],
   "source": [
    "using Requests\n",
    "import Requests: get, post, put, delete, options"
   ]
  },
  {
   "cell_type": "code",
   "execution_count": 15,
   "metadata": {
    "collapsed": false
   },
   "outputs": [
    {
     "data": {
      "text/plain": [
       "Dict{Symbol,Any} with 7 entries:\n",
       "  Symbol(\"DVID Version\")      => \"v0.8.1\"\n",
       "  Symbol(\"Server time\")       => \"2016-10-22 20:59:06.059161565 +0000 UTC\"\n",
       "  Symbol(\"Datastore Version\") => \"0.10.0\"\n",
       "  :Cores                      => \"12\"\n",
       "  Symbol(\"Maximum Cores\")     => \"12\"\n",
       "  Symbol(\"Server uptime\")     => \"1h5m53.78897904s\"\n",
       "  Symbol(\"Storage backend\")   => \"gbucket; basholeveldb\""
      ]
     },
     "execution_count": 15,
     "metadata": {},
     "output_type": "execute_result"
    }
   ],
   "source": [
    "resp = get(\"http://localhost:8000/api/server/info\")\n",
    "JSON.parse(bytestring(resp.data), dicttype=Dict{Symbol, Any})"
   ]
  },
  {
   "cell_type": "code",
   "execution_count": 7,
   "metadata": {
    "collapsed": false
   },
   "outputs": [
    {
     "name": "stdout",
     "output_type": "stream",
     "text": [
      "resp.status = 200\n"
     ]
    },
    {
     "data": {
      "text/plain": [
       "Dict{Symbol,Any} with 4 entries:\n",
       "  :labelblk  => \"github.com/janelia-flyem/dvid/datatype/labelblk\"\n",
       "  :labelvol  => \"github.com/janelia-flyem/dvid/datatype/labelvol\"\n",
       "  :uint8blk  => \"github.com/janelia-flyem/dvid/datatype/imageblk/uint8.go\"\n",
       "  :imagetile => \"github.com/janelia-flyem/dvid/datatype/imagetile\""
      ]
     },
     "execution_count": 7,
     "metadata": {},
     "output_type": "execute_result"
    }
   ],
   "source": [
    "resp = get(\"http://localhost:8000/api/server/types\")\n",
    "@show resp.status\n",
    "# @show deserialize(IOBuffer(resp.data))\n",
    "JSON.parse(bytestring(resp.data), dicttype=Dict{Symbol, Any})"
   ]
  },
  {
   "cell_type": "code",
   "execution_count": 16,
   "metadata": {
    "collapsed": false
   },
   "outputs": [
    {
     "data": {
      "text/plain": [
       "Dict{Symbol,Any} with 11 entries:\n",
       "  :googlevoxels => \"github.com/janelia-flyem/dvid/datatype/googlevoxels\"\n",
       "  :annotation   => \"github.com/janelia-flyem/dvid/datatype/annotation\"\n",
       "  :multichan16  => \"github.com/janelia-flyem/dvid/datatype/multichan16\"\n",
       "  :rgba8blk     => \"github.com/janelia-flyem/dvid/datatype/imageblk/rgba8.go\"\n",
       "  :uint8blk     => \"github.com/janelia-flyem/dvid/datatype/imageblk/uint8.go\"\n",
       "  :imagetile    => \"github.com/janelia-flyem/dvid/datatype/imagetile\"\n",
       "  :labelgraph   => \"github.com/janelia-flyem/dvid/datatype/labelgraph\"\n",
       "  :roi          => \"github.com/janelia-flyem/dvid/datatype/roi\"\n",
       "  :labelvol     => \"github.com/janelia-flyem/dvid/datatype/labelvol\"\n",
       "  :labelblk     => \"github.com/janelia-flyem/dvid/datatype/labelblk\"\n",
       "  :keyvalue     => \"github.com/janelia-flyem/dvid/datatype/keyvalue\""
      ]
     },
     "execution_count": 16,
     "metadata": {},
     "output_type": "execute_result"
    }
   ],
   "source": [
    "resp = get(\"http://localhost:8000/api/server/compiled-types\")\n",
    "JSON.parse(bytestring(resp.data), dicttype=Dict{Symbol, Any})"
   ]
  },
  {
   "cell_type": "code",
   "execution_count": 23,
   "metadata": {
    "collapsed": false
   },
   "outputs": [
    {
     "data": {
      "text/plain": [
       "Dict{Symbol,Any} with 1 entry:\n",
       "  Symbol(\"5cc94d532799484c… => Dict{Symbol,Any}(Pair{Symbol,Any}(:DAG,Dict{Symb…"
      ]
     },
     "execution_count": 23,
     "metadata": {},
     "output_type": "execute_result"
    }
   ],
   "source": [
    "resp = get(\"http://localhost:8000/api/repos/info\")\n",
    "d = JSON.parse(bytestring(resp.data), dicttype=Dict{Symbol, Any})\n",
    "# @show d"
   ]
  },
  {
   "cell_type": "code",
   "execution_count": 26,
   "metadata": {
    "collapsed": false
   },
   "outputs": [
    {
     "data": {
      "text/plain": [
       "Dict{Symbol,Any} with 1 entry:\n",
       "  :log => Any[\"2015-09-14T15:35:23-04:00  New data instance \\\"grayscale\\\" of ty…"
      ]
     },
     "execution_count": 26,
     "metadata": {},
     "output_type": "execute_result"
    }
   ],
   "source": [
    "resp = get(\"http://localhost:8000/api/repo/5cc94d532799484cb01788fcdb7cd9f0/log\")\n",
    "d = JSON.parse(bytestring(resp.data), dicttype=Dict{Symbol, Any})"
   ]
  },
  {
   "cell_type": "code",
   "execution_count": 31,
   "metadata": {
    "collapsed": false
   },
   "outputs": [
    {
     "name": "stdout",
     "output_type": "stream",
     "text": [
      "d = Dict{Symbol,Any}(Pair{Symbol,Any}(:Extended,Dict{Symbol,Any}(Pair{Symbol,Any}(:VoxelUnits,Any[\"nanometers\",\"nanometers\",\"nanometers\"]),Pair{Symbol,Any}(:Interpolable,true),Pair{Symbol,Any}(:Values,Any[Dict{Symbol,Any}(Pair{Symbol,Any}(:Label,\"uint8\"),Pair{Symbol,Any}(:DataType,\"uint8\"))]),Pair{Symbol,Any}(:MaxIndex,Any[165,139,45]),Pair{Symbol,Any}(:Background,0),Pair{Symbol,Any}(:VoxelSize,Any[8,8,8]),Pair{Symbol,Any}(:MinIndex,Any[72,46,40]),Pair{Symbol,Any}(:MinPoint,Any[2304,1472,1280]),Pair{Symbol,Any}(:MaxPoint,Any[5311,4479,1471]),Pair{Symbol,Any}(:BlockSize,Any[32,32,32]))),Pair{Symbol,Any}(:Base,Dict{Symbol,Any}(Pair{Symbol,Any}(:Compression,\"LZ4 compression, level -1\"),Pair{Symbol,Any}(:TypeVersion,\"0.2\"),Pair{Symbol,Any}(:TypeName,\"uint8blk\"),Pair{Symbol,Any}(:TypeURL,\"github.com/janelia-flyem/dvid/datatype/imageblk/uint8.go\"),Pair{Symbol,Any}(:Name,\"grayscale\"),Pair{Symbol,Any}(:RepoUUID,\"5cc94d532799484cb01788fcdb7cd9f0\"),Pair{Symbol,Any}(:Syncs,nothing),Pair{Symbol,Any}(:Checksum,\"No checksum\"),Pair{Symbol,Any}(:Versioned,true))))\n"
     ]
    },
    {
     "data": {
      "text/plain": [
       "Dict{Symbol,Any} with 2 entries:\n",
       "  :Extended => Dict{Symbol,Any}(Pair{Symbol,Any}(:VoxelUnits,Any[\"nanometers\",\"…\n",
       "  :Base     => Dict{Symbol,Any}(Pair{Symbol,Any}(:Compression,\"LZ4 compression,…"
      ]
     },
     "execution_count": 31,
     "metadata": {},
     "output_type": "execute_result"
    }
   ],
   "source": [
    "resp = get(\"http://localhost:8000/api/node/5cc94d532799484cb01788fcdb7cd9f0/grayscale/info\")\n",
    "d = JSON.parse(bytestring(resp.data), dicttype=Dict{Symbol, Any})\n",
    "@show d"
   ]
  },
  {
   "cell_type": "code",
   "execution_count": 34,
   "metadata": {
    "collapsed": false
   },
   "outputs": [
    {
     "name": "stdout",
     "output_type": "stream",
     "text": [
      "resp = Response(200 OK, 8 headers, 60008 bytes in body)\n"
     ]
    },
    {
     "data": {
      "text/plain": [
       "Response(200 OK, 8 headers, 60008 bytes in body)"
      ]
     },
     "execution_count": 34,
     "metadata": {},
     "output_type": "execute_result"
    }
   ],
   "source": [
    "resp = get(\"http://localhost:8000/api/node/5c/grayscale/raw/xy/300_300/2304_1472_1280\")\n",
    "# d = JSON.parse(bytestring(resp.data), dicttype=Dict{Symbol, Any})\n",
    "@show resp"
   ]
  }
 ],
 "metadata": {
  "kernelspec": {
   "display_name": "Julia 0.5.0",
   "language": "julia",
   "name": "julia-0.5"
  },
  "language_info": {
   "file_extension": ".jl",
   "mimetype": "application/julia",
   "name": "julia",
   "version": "0.5.0"
  }
 },
 "nbformat": 4,
 "nbformat_minor": 0
}
